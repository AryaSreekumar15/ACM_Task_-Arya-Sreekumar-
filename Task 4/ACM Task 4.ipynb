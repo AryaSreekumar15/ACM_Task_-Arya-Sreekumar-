{
 "cells": [
  {
   "cell_type": "code",
   "execution_count": 30,
   "id": "663bd639",
   "metadata": {},
   "outputs": [],
   "source": [
    "import torch"
   ]
  },
  {
   "cell_type": "code",
   "execution_count": 31,
   "id": "ef518f28",
   "metadata": {},
   "outputs": [
    {
     "name": "stdout",
     "output_type": "stream",
     "text": [
      "tensor([[0.0323, 0.9391, 0.5427],\n",
      "        [0.0812, 0.7698, 0.9215],\n",
      "        [0.8527, 0.8959, 0.0987]], requires_grad=True)\n",
      "tensor([[0.5540, 0.6740, 0.3370],\n",
      "        [0.9295, 0.9969, 0.6234],\n",
      "        [0.3322, 0.5572, 0.2260]])\n"
     ]
    }
   ],
   "source": [
    "#Two tensor named as x and y with random values\n",
    "x=torch.rand(3,3,requires_grad=True) #Pytorch starts to track operations on x to compute the gradient\n",
    "y=torch.rand(3,3)\n",
    "print(x)\n",
    "print(y)"
   ]
  },
  {
   "cell_type": "code",
   "execution_count": 32,
   "id": "7ddd67f4",
   "metadata": {},
   "outputs": [
    {
     "name": "stdout",
     "output_type": "stream",
     "text": [
      "tensor([[1.0711, 1.2604, 0.7189],\n",
      "        [1.0667, 1.3357, 0.7155],\n",
      "        [1.3380, 1.5229, 0.8681]], grad_fn=<MmBackward0>)\n"
     ]
    }
   ],
   "source": [
    "#Matrix multplication between tensors\n",
    "Product=torch.matmul(x,y)\n",
    "print(Product)"
   ]
  },
  {
   "cell_type": "code",
   "execution_count": 33,
   "id": "7dec2e07",
   "metadata": {},
   "outputs": [
    {
     "name": "stdout",
     "output_type": "stream",
     "text": [
      "tensor([[1.5650, 2.5498, 1.1154],\n",
      "        [1.5650, 2.5498, 1.1154],\n",
      "        [1.5650, 2.5498, 1.1154]])\n"
     ]
    }
   ],
   "source": [
    "#Autograd\n",
    "Scalar_value=Product.sum() #Using .sum() to get a scalar value\n",
    "Scalar_value.backward()\n",
    "print(x.grad)"
   ]
  },
  {
   "cell_type": "markdown",
   "id": "dabe7c3e",
   "metadata": {},
   "source": [
    "Working of Autograd: Autograd helps to compute the gradients through a graph structure.Pytorch creates a graph with each operation represented by nodes and the entities by edges.Once the graph is computed,a forward pass takes place which finds the output.A forwrd pass is followed by a backward pass which calculates the gradient by traversing the graph in reverse order.The values of gradient are stored in the .grad attribute."
   ]
  },
  {
   "cell_type": "code",
   "execution_count": 34,
   "id": "0e961e4d",
   "metadata": {},
   "outputs": [
    {
     "name": "stdout",
     "output_type": "stream",
     "text": [
      "torch.Size([3, 1]) torch.Size([1, 3]) torch.Size([3, 3])\n"
     ]
    }
   ],
   "source": [
    "#Creating a 3x1 and 1x3 tensors\n",
    "a=torch.tensor([[1],[2],[3]])\n",
    "b=torch.tensor([[5,6,7]])\n",
    "c=torch.tensor([[1,2,3],[5,6,7],[8,9,0]])\n",
    "print(a.shape,b.shape,c.shape)"
   ]
  },
  {
   "cell_type": "code",
   "execution_count": 35,
   "id": "4dd0cc6e",
   "metadata": {},
   "outputs": [
    {
     "name": "stdout",
     "output_type": "stream",
     "text": [
      "tensor([[ 6,  7,  8],\n",
      "        [ 7,  8,  9],\n",
      "        [ 8,  9, 10]])\n",
      "tensor([[105, 126,  67],\n",
      "        [119, 143,  77],\n",
      "        [133, 160,  87]])\n"
     ]
    }
   ],
   "source": [
    "#Using broadcast to add a and b\n",
    "result=a+b\n",
    "print(result)\n",
    "#Multiplying the result with another tensor c (3x3)\n",
    "resultm=torch.matmul(result,c)\n",
    "print(resultm)"
   ]
  },
  {
   "cell_type": "markdown",
   "id": "f6835d97",
   "metadata": {},
   "source": [
    "Broadcasting: Broadcasting allows arithmetic operation between tensors of different shapes.\n",
    "Its only possible under 2 conditions:They are equal, or if one of the dimensions are 1.\n",
    "In order for the calculation to take place the tensors are expanded:\n",
    "a=[[1,1,1],[2,2,2],[3,3,3]] b=[[5,6,7],[5,6,7],[5,6,7]] \n",
    "then its added element wise, then the tensor c (3x3) is multiplied."
   ]
  },
  {
   "cell_type": "code",
   "execution_count": 36,
   "id": "fe2aad1b",
   "metadata": {},
   "outputs": [
    {
     "name": "stdout",
     "output_type": "stream",
     "text": [
      "tensor([[0.3446, 0.6164, 0.4031, 0.9764],\n",
      "        [0.8433, 0.3982, 0.7597, 0.9803],\n",
      "        [0.2859, 0.2091, 0.1630, 0.5877],\n",
      "        [0.1818, 0.4238, 0.6531, 0.3784],\n",
      "        [0.7720, 0.8091, 0.1461, 0.2326],\n",
      "        [0.1600, 0.8495, 0.7400, 0.0471]])\n"
     ]
    }
   ],
   "source": [
    "#Creating a tensor with random values with the shape(6x4)\n",
    "tensor1=torch.rand(6,4)\n",
    "print(tensor1)"
   ]
  },
  {
   "cell_type": "code",
   "execution_count": 37,
   "id": "71f91df7",
   "metadata": {},
   "outputs": [
    {
     "name": "stdout",
     "output_type": "stream",
     "text": [
      "tensor([[0.3446, 0.6164, 0.4031, 0.9764, 0.8433, 0.3982, 0.7597, 0.9803],\n",
      "        [0.2859, 0.2091, 0.1630, 0.5877, 0.1818, 0.4238, 0.6531, 0.3784],\n",
      "        [0.7720, 0.8091, 0.1461, 0.2326, 0.1600, 0.8495, 0.7400, 0.0471]])\n"
     ]
    }
   ],
   "source": [
    "#Reshaping\n",
    "tensor_new=tensor1.reshape(3,8)\n",
    "print(tensor_new)"
   ]
  },
  {
   "cell_type": "markdown",
   "id": "2e71fa34",
   "metadata": {},
   "source": [
    "Reshaping:Reshaping helps us to change the shape of the tensor without changing the data.The tensors will have the same number of elements before and after reshaping.It organizes the data into the required shape"
   ]
  },
  {
   "cell_type": "code",
   "execution_count": 38,
   "id": "4f4412b7",
   "metadata": {},
   "outputs": [
    {
     "name": "stdout",
     "output_type": "stream",
     "text": [
      "tensor([[0.3446, 0.6164],\n",
      "        [0.2859, 0.2091],\n",
      "        [0.7720, 0.8091]])\n"
     ]
    }
   ],
   "source": [
    "print(tensor_new[:,:2])"
   ]
  },
  {
   "cell_type": "markdown",
   "id": "13f2caae",
   "metadata": {},
   "source": [
    "Slicing:Slicing helps to extract only the required portion of the data by giving the index of the specific rows and columns.We can access and manipulate certain parts of the tensor"
   ]
  },
  {
   "cell_type": "code",
   "execution_count": null,
   "id": "60cdc8a2",
   "metadata": {},
   "outputs": [],
   "source": []
  }
 ],
 "metadata": {
  "kernelspec": {
   "display_name": "Python 3 (ipykernel)",
   "language": "python",
   "name": "python3"
  },
  "language_info": {
   "codemirror_mode": {
    "name": "ipython",
    "version": 3
   },
   "file_extension": ".py",
   "mimetype": "text/x-python",
   "name": "python",
   "nbconvert_exporter": "python",
   "pygments_lexer": "ipython3",
   "version": "3.10.9"
  }
 },
 "nbformat": 4,
 "nbformat_minor": 5
}
